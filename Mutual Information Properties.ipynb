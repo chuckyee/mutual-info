{
 "cells": [
  {
   "cell_type": "code",
   "execution_count": 1,
   "metadata": {},
   "outputs": [],
   "source": [
    "import numpy as np\n",
    "import matplotlib.pyplot as plt"
   ]
  },
  {
   "cell_type": "code",
   "execution_count": 2,
   "metadata": {},
   "outputs": [],
   "source": [
    "def H(P):\n",
    "    return -np.sum(P.flat * np.log(P.flat))"
   ]
  },
  {
   "cell_type": "code",
   "execution_count": 6,
   "metadata": {},
   "outputs": [
    {
     "data": {
      "image/png": "[encoded data removed]",
      "text/plain": [
       "<matplotlib.figure.Figure at 0x10cffb160>"
      ]
     },
     "metadata": {},
     "output_type": "display_data"
    }
   ],
   "source": [
    "N_i, N_j = 2, 3\n",
    "\n",
    "mutual_info = []\n",
    "for _ in range(100000):\n",
    "    P_ij = np.random.rand(N_i, N_j)\n",
    "    P_ij /= np.sum(P_ij)\n",
    "\n",
    "    P_j = np.sum(P_ij, axis=0)\n",
    "    P_i = np.sum(P_ij, axis=1)\n",
    "\n",
    "    I_ij = H(P_i) + H(P_j) - H(P_ij)\n",
    "    mutual_info.append(I_ij)\n",
    "#    mutual_info.append(H(P_j))\n",
    "\n",
    "plt.hist(mutual_info, bins=50, normed=True);"
   ]
  },
  {
   "cell_type": "code",
   "execution_count": 61,
   "metadata": {},
   "outputs": [],
   "source": [
    "data_k2 = [\n",
    "    [0.716428768821, 0.655303351725, 0.670158971585, 0.657044098189, 0.747265116832,\n",
    "     0.638678634738, 0.703396980854, 0.644640706100, 0.682657740118, 0.568404667696],\n",
    "    [0.855936629631, 0.794043221388, 0.838260083114, 0.788722506317, 0.856942880910,\n",
    "     0.902072488602, 0.786249777653, 0.827157835168, 0.869567182709, 0.783186999836],\n",
    "    [0.903121749737, 1.021222796850, 1.058302549490, 1.006876679980, 0.995996427525,\n",
    "     0.971570054558, 0.985099743508, 1.033489831140, 0.966914325273, 0.969239730054],\n",
    "    [1.186972358810, 1.207018658210, 1.172549479490, 1.153240911800, 1.157918752630,\n",
    "     1.135321915110, 1.177938870630, 1.192099584020, 1.151417640750, 1.170897785950],\n",
    "    [1.398307861800, 1.336467742290, 1.329358443920, ],\n",
    "]\n",
    "\n",
    "x_k2 = [1000, 2000, 4000, 8000, 16000]\n",
    "y_k2, yerr_k2 = np.asarray([(np.mean(row), np.std(row)) for row in data_k2]).T"
   ]
  },
  {
   "cell_type": "code",
   "execution_count": 31,
   "metadata": {},
   "outputs": [
    {
     "name": "stdout",
     "output_type": "stream",
     "text": [
      "1.2311440580590003 0.02076592796752455\n"
     ]
    }
   ],
   "source": [
    "data16k = [\n",
    "    1.24777168640,\n",
    "    1.27229745869,\n",
    "    1.20679011314,\n",
    "    1.22132402868,\n",
    "    1.22553436708,\n",
    "    1.20933303881,\n",
    "    1.24095631393,\n",
    "    1.21863443051,\n",
    "    1.21352551424,\n",
    "    1.25527362911,\n",
    "]\n",
    "print(np.mean(data16k), np.std(data16k))"
   ]
  },
  {
   "cell_type": "code",
   "execution_count": 62,
   "metadata": {},
   "outputs": [
    {
     "data": {
      "text/plain": [
       "Text(0.5,1,'MNIST I(top, bottom)')"
      ]
     },
     "execution_count": 62,
     "metadata": {},
     "output_type": "execute_result"
    },
    {
     "data": {
      "image/png": "[encoded data removed]",
      "text/plain": [
       "<matplotlib.figure.Figure at 0x10f7cc780>"
      ]
     },
     "metadata": {},
     "output_type": "display_data"
    }
   ],
   "source": [
    "mutual_info = np.asarray([\n",
    "    (1000, 0.555845545710, 0.0498960167255),\n",
    "    (2000, 0.744989032051, 0.0437560021493),\n",
    "    (4000, 0.882319825983, 0.0271405196468),\n",
    "    (8000, 1.041177594930, 0.0154471390138),\n",
    "    (16000,1.231144058059, 0.0207659279675),\n",
    "])\n",
    "N_samples, y, yerr = mutual_info.T\n",
    "\n",
    "fig = plt.figure(figsize=(5, 5))\n",
    "plt.errorbar(N_samples, y, yerr, fmt='o:', label='k = 3')\n",
    "plt.gca().set_xscale('log')\n",
    "\n",
    "slope, intercept = np.polyfit(np.log(N_samples), y, 1)\n",
    "xx = np.array([60000])\n",
    "fit = intercept + slope * np.log(xx)\n",
    "plt.plot(xx, fit, \"o\", alpha=0.5, label='N = 60k')\n",
    "\n",
    "plt.errorbar(x_k2, y_k2, yerr_k2, fmt='o:', label='k = 2')\n",
    "\n",
    "plt.legend()\n",
    "plt.xlabel(\"N Samples\")\n",
    "plt.ylabel(\"Mutual information (Kraskov, base 2)\")\n",
    "plt.title(\"MNIST I(top, bottom)\")"
   ]
  },
  {
   "cell_type": "code",
   "execution_count": 63,
   "metadata": {},
   "outputs": [],
   "source": [
    "from collections import defaultdict\n",
    "\n",
    "class LogFileMNIST(object):\n",
    "    def __init__(self, path):\n",
    "        self.path = path\n",
    "        with open(path, 'r') as f:\n",
    "            lines = [line.split() for line in f.readlines()]\n",
    "        self.samples = defaultdict(list)\n",
    "        for n, mi in [x[3:] for x in lines if x[2] == 'X:']:\n",
    "            self.samples[n].append(mi)\n",
    "        self.n = [int(x[3][:-1]) for x in lines if x[2] == 'MI']\n",
    "        self.mi = np.array([[float(e) for e in x[4:]] for x in lines if x[2] == 'MI'])"
   ]
  },
  {
   "cell_type": "code",
   "execution_count": null,
   "metadata": {},
   "outputs": [],
   "source": [
    "LogFileMNIST(\"log.gray\")"
   ]
  }
 ],
 "metadata": {
  "kernelspec": {
   "display_name": "Python 3",
   "language": "python",
   "name": "python3"
  },
  "language_info": {
   "codemirror_mode": {
    "name": "ipython",
    "version": 3
   },
   "file_extension": ".py",
   "mimetype": "text/x-python",
   "name": "python",
   "nbconvert_exporter": "python",
   "pygments_lexer": "ipython3",
   "version": "3.6.3"
  }
 },
 "nbformat": 4,
 "nbformat_minor": 2
}
